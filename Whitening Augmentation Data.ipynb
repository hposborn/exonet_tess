{
 "cells": [
  {
   "cell_type": "code",
   "execution_count": 1,
   "metadata": {},
   "outputs": [],
   "source": [
    "import pickle\n",
    "import numpy as np\n",
    "import glob\n",
    "import matplotlib.pyplot as plt\n",
    "%matplotlib inline"
   ]
  },
  {
   "cell_type": "code",
   "execution_count": 7,
   "metadata": {},
   "outputs": [],
   "source": [
    "collist=['TPERIOD','TDUR','DRRATIO','NTRANS','TSNR','TDEPTH','INDUR',\n",
    "         'SESMES_LOG_RATIO','PRAD_LOG_RATIO','TDUR_LOG_RATIO','RADRATIO','IMPACT',\n",
    "         'TESSMAG','RADIUS','PMTOTAL','LOGG','MH','TEFF']"
   ]
  },
  {
   "cell_type": "code",
   "execution_count": 8,
   "metadata": {},
   "outputs": [],
   "source": [
    "allcols=np.zeros(len(collist))"
   ]
  },
  {
   "cell_type": "code",
   "execution_count": 24,
   "metadata": {},
   "outputs": [],
   "source": [
    "for info in glob.glob('/home/hosborn/TESS/processed_dvpdc_101/all/*info.pickle')[:3]:\n",
    "    data=pickle.load(open(info,'rb'),encoding='latin1')\n",
    "    dataout=np.array([data[c] for c in collist]).astype(float)"
   ]
  },
  {
   "cell_type": "code",
   "execution_count": 22,
   "metadata": {},
   "outputs": [],
   "source": [
    "meds={collist[n]:np.nanmedian(allcols[:,n],axis=0) for n in range(len(collist))}\n",
    "stds={collist[n]:np.nanstd(allcols[:,n],axis=0) for n in range(len(collist))}"
   ]
  },
  {
   "cell_type": "code",
   "execution_count": 34,
   "metadata": {},
   "outputs": [],
   "source": [
    "for info in glob.glob('/home/hosborn/TESS/processed_dvpdc_101/all/*info.pickle'):\n",
    "    data=pickle.load(open(info,'rb'),encoding='latin1')\n",
    "    newdic={c+'_W':(data[c]-meds[c])/stds[c] for c in collist}\n",
    "    data.update(newdic)\n",
    "    pickle.dump(data,open(info,'wb'))"
   ]
  },
  {
   "cell_type": "code",
   "execution_count": 23,
   "metadata": {},
   "outputs": [
    {
     "name": "stdout",
     "output_type": "stream",
     "text": [
      "{'MH': -0.17648201, 'LOGG': 4.33676004, 'TPERIOD': 9.355533969908725, 'TDUR_LOG_RATIO': 9.596847154576566e-05, 'PMTOTAL': 41.750360515, 'IMPACT': 0.4975551392169113, 'TSNR': 17.94325828552246, 'SESMES_LOG_RATIO': 0.14966165259175565, 'RADIUS': 1.19562995, 'TESSMAG': 9.46700001, 'PRAD_LOG_RATIO': -0.22812650448387642, 'DRRATIO': 10.623160359481897, 'TEFF': 5696.0, 'INDUR': 0.4041811547386961, 'TDEPTH': 2498.4787689028462, 'NTRANS': 3.0, 'TDUR': 4.569871799433878, 'RADRATIO': 0.049454654513043816}\n",
      "{'MH': 0.33468353151252145, 'LOGG': 0.6101576052972555, 'TPERIOD': 18.25861477337735, 'TDUR_LOG_RATIO': 0.11754621993540083, 'PMTOTAL': 107.80837125574534, 'IMPACT': 0.4045386245598444, 'TSNR': 289.0890599108683, 'SESMES_LOG_RATIO': 0.2480746146733351, 'RADIUS': 2.7204078591808596, 'TESSMAG': 1.7655596983478106, 'PRAD_LOG_RATIO': 0.47797558292519715, 'DRRATIO': 31.587690765961458, 'TEFF': 1771.3366207018846, 'INDUR': 2.086855821487322, 'TDEPTH': 81227.09033526565, 'NTRANS': 23.267758198609776, 'TDUR': 4.888968900439348, 'RADRATIO': 0.14385430211465008}\n"
     ]
    }
   ],
   "source": [
    "print(meds)\n",
    "print(stds)"
   ]
  },
  {
   "cell_type": "code",
   "execution_count": null,
   "metadata": {},
   "outputs": [],
   "source": []
  },
  {
   "cell_type": "code",
   "execution_count": 14,
   "metadata": {},
   "outputs": [],
   "source": [
    "import seaborn as sns"
   ]
  },
  {
   "cell_type": "code",
   "execution_count": 20,
   "metadata": {},
   "outputs": [
    {
     "data": {
      "image/png": "[encoded data removed]",
      "text/plain": [
       "<Figure size 864x648 with 1 Axes>"
      ]
     },
     "metadata": {
      "needs_background": "light"
     },
     "output_type": "display_data"
    }
   ],
   "source": [
    "plt.figure(figsize=(12,9))\n",
    "for n in range(len(collist)):\n",
    "    plt.hist((allcols[:,n]-meds[n])/stds[n],bins=np.linspace(-5,5,40),alpha=0.3)"
   ]
  },
  {
   "cell_type": "code",
   "execution_count": null,
   "metadata": {},
   "outputs": [],
   "source": []
  },
  {
   "cell_type": "code",
   "execution_count": 35,
   "metadata": {},
   "outputs": [],
   "source": [
    "testcols=np.zeros(len(collist))\n",
    "for info in glob.glob('/home/hosborn/TESS/processed_dvpdc_101/all/*info.pickle'):\n",
    "    data=pickle.load(open(info,'rb'),encoding='latin1')\n",
    "    testcols=np.vstack((testcols,np.array([data[c] for c in collist]).astype(float)))\n",
    "    \n",
    "\n",
    "for info in glob.glob('/home/hosborn/TESS/processed_dvpdc_101/all/*info.pickle'):\n",
    "    data=pickle.load(open(info,'rb'),encoding='latin1')\n",
    "    newdic={c+'_W':(data[c]-meds[c])/stds[c] for c in collist}\n",
    "    data.update(newdic)\n",
    "    pickle.dump(data,open(info,'wb'))\n",
    "    \n",
    "    \n",
    "    \n",
    "meds={collist[n]:np.nanmedian(testcols[:,n],axis=0) for n in range(len(collist))}\n",
    "stds={collist[n]:np.nanstd(testcols[:,n],axis=0) for n in range(len(collist))}\n",
    "\n",
    "\n",
    "for info in glob.glob('/home/hosborn/TESS/processed_dvpdc_101/test/*info.pickle'):\n",
    "    data=pickle.load(open(info,'rb'),encoding='latin1')\n",
    "    newdic={c+'_W':(data[c]-meds[c])/stds[c] for c in collist}\n",
    "    data.update(newdic)\n",
    "    pickle.dump(data,open(info,'wb'))"
   ]
  },
  {
   "cell_type": "code",
   "execution_count": 36,
   "metadata": {},
   "outputs": [],
   "source": []
  },
  {
   "cell_type": "code",
   "execution_count": 37,
   "metadata": {},
   "outputs": [
    {
     "name": "stdout",
     "output_type": "stream",
     "text": [
      "{'MH': -0.17648201, 'LOGG': 4.33676004, 'TPERIOD': 9.355533969908725, 'TDUR_LOG_RATIO': 9.596847154576566e-05, 'PMTOTAL': 41.750360515, 'IMPACT': 0.4975551392169113, 'TSNR': 17.94325828552246, 'SESMES_LOG_RATIO': 0.14966165259175565, 'RADIUS': 1.19562995, 'TESSMAG': 9.46700001, 'PRAD_LOG_RATIO': -0.22812650448387642, 'DRRATIO': 10.623160359481897, 'TEFF': 5696.0, 'INDUR': 0.4041811547386961, 'TDEPTH': 2498.4787689028462, 'NTRANS': 3.0, 'TDUR': 4.569871799433878, 'RADRATIO': 0.049454654513043816}\n",
      "{'MH': 0.33468353151252145, 'LOGG': 0.6101576052972555, 'TPERIOD': 18.25861477337735, 'TDUR_LOG_RATIO': 0.11754621993540083, 'PMTOTAL': 107.80837125574534, 'IMPACT': 0.4045386245598444, 'TSNR': 289.0890599108683, 'SESMES_LOG_RATIO': 0.2480746146733351, 'RADIUS': 2.7204078591808596, 'TESSMAG': 1.7655596983478106, 'PRAD_LOG_RATIO': 0.47797558292519715, 'DRRATIO': 31.587690765961458, 'TEFF': 1771.3366207018846, 'INDUR': 2.086855821487322, 'TDEPTH': 81227.09033526565, 'NTRANS': 23.267758198609776, 'TDUR': 4.888968900439348, 'RADRATIO': 0.14385430211465008}\n"
     ]
    }
   ],
   "source": [
    "print(meds)\n",
    "print(stds)"
   ]
  },
  {
   "cell_type": "code",
   "execution_count": 40,
   "metadata": {},
   "outputs": [
    {
     "data": {
      "text/plain": [
       "array([[ 0.00000000e+00,  0.00000000e+00,  0.00000000e+00, ...,\n",
       "         0.00000000e+00,  0.00000000e+00,  0.00000000e+00],\n",
       "       [ 7.00918675e+00,  1.02963505e+00,  5.09868233e+01, ...,\n",
       "         4.38145018e+00, -1.59192000e-02,  6.11525977e+03],\n",
       "       [ 1.92643935e+01,  1.08986101e+01,  1.39822671e+01, ...,\n",
       "         4.07000017e+00, -3.00000000e-02,  5.99360010e+03],\n",
       "       ...,\n",
       "       [ 1.24296056e+00,  1.65209306e+00,  3.87595333e+00, ...,\n",
       "         4.35410023e+00,             nan,  4.81400000e+03],\n",
       "       [ 1.27197166e+01,  4.46753424e+00,  1.61009365e+01, ...,\n",
       "         4.83058023e+00,             nan,  3.44500000e+03],\n",
       "       [ 4.02773365e+01,  7.46848735e+00,  3.73561925e+01, ...,\n",
       "         2.04771996e+00,             nan,  4.56000000e+03]])"
      ]
     },
     "execution_count": 40,
     "metadata": {},
     "output_type": "execute_result"
    }
   ],
   "source": [
    "testcols"
   ]
  },
  {
   "cell_type": "code",
   "execution_count": 45,
   "metadata": {},
   "outputs": [
    {
     "data": {
      "image/png": "[encoded data removed]",
      "text/plain": [
       "<Figure size 864x648 with 1 Axes>"
      ]
     },
     "metadata": {
      "needs_background": "light"
     },
     "output_type": "display_data"
    }
   ],
   "source": [
    "plt.figure(figsize=(12,9))\n",
    "for n in range(len(collist)):\n",
    "    plt.hist((testcols[:,n]-meds[collist[n]])/stds[collist[n]],bins=np.linspace(-5,5,20),alpha=0.3)"
   ]
  },
  {
   "cell_type": "code",
   "execution_count": 46,
   "metadata": {},
   "outputs": [],
   "source": [
    "for info in glob.glob('/home/hosborn/TESS/processed_dvpdc_101/test/*info.pickle'):\n",
    "    data=pickle.load(open(info,'rb'),encoding='latin1')\n",
    "    newdic={c+'_W':(data[c]-meds[c])/stds[c] for c in collist}\n",
    "    data.update(newdic)\n",
    "    pickle.dump(data,open(info,'wb'))"
   ]
  },
  {
   "cell_type": "markdown",
   "metadata": {},
   "source": [
    "# Removing near-infinite LC points:"
   ]
  },
  {
   "cell_type": "code",
   "execution_count": 64,
   "metadata": {},
   "outputs": [
    {
     "name": "stderr",
     "output_type": "stream",
     "text": [
      "/home/hosborn/.local/lib/python3.5/site-packages/ipykernel_launcher.py:14: RuntimeWarning: invalid value encountered in greater\n",
      "  \n",
      "/home/hosborn/.local/lib/python3.5/site-packages/ipykernel_launcher.py:14: RuntimeWarning: invalid value encountered in less\n",
      "  \n",
      "/home/hosborn/.local/lib/python3.5/site-packages/ipykernel_launcher.py:5: RuntimeWarning: invalid value encountered in greater\n",
      "  \"\"\"\n",
      "/home/hosborn/.local/lib/python3.5/site-packages/ipykernel_launcher.py:5: RuntimeWarning: invalid value encountered in less\n",
      "  \"\"\"\n"
     ]
    }
   ],
   "source": []
  },
  {
   "cell_type": "code",
   "execution_count": 67,
   "metadata": {},
   "outputs": [
    {
     "data": {
      "text/plain": [
       "168"
      ]
     },
     "execution_count": 67,
     "metadata": {},
     "output_type": "execute_result"
    }
   ],
   "source": [
    "np.sum(np.array(globinfs)>0)"
   ]
  },
  {
   "cell_type": "code",
   "execution_count": 69,
   "metadata": {},
   "outputs": [],
   "source": [
    "data[1,1]=np.nan"
   ]
  },
  {
   "cell_type": "code",
   "execution_count": 71,
   "metadata": {},
   "outputs": [
    {
     "name": "stderr",
     "output_type": "stream",
     "text": [
      "/home/hosborn/.local/lib/python3.5/site-packages/ipykernel_launcher.py:1: RuntimeWarning: invalid value encountered in greater\n",
      "  \"\"\"Entry point for launching an IPython kernel.\n",
      "/home/hosborn/.local/lib/python3.5/site-packages/ipykernel_launcher.py:1: RuntimeWarning: invalid value encountered in less\n",
      "  \"\"\"Entry point for launching an IPython kernel.\n"
     ]
    }
   ],
   "source": [
    "NRINF=~np.isnan(data)*((data>1)+(data<-1))"
   ]
  },
  {
   "cell_type": "code",
   "execution_count": null,
   "metadata": {},
   "outputs": [],
   "source": []
  },
  {
   "cell_type": "code",
   "execution_count": null,
   "metadata": {},
   "outputs": [],
   "source": []
  },
  {
   "cell_type": "code",
   "execution_count": null,
   "metadata": {},
   "outputs": [],
   "source": []
  },
  {
   "cell_type": "code",
   "execution_count": null,
   "metadata": {},
   "outputs": [],
   "source": []
  },
  {
   "cell_type": "code",
   "execution_count": null,
   "metadata": {},
   "outputs": [],
   "source": []
  },
  {
   "cell_type": "code",
   "execution_count": 49,
   "metadata": {},
   "outputs": [],
   "source": [
    "data=np.load('/home/hosborn/TESS/processed_dvpdc_101/all/000167363521_03_04_view_loc.npy')"
   ]
  },
  {
   "cell_type": "code",
   "execution_count": 76,
   "metadata": {},
   "outputs": [
    {
     "name": "stderr",
     "output_type": "stream",
     "text": [
      "/home/hosborn/.local/lib/python3.5/site-packages/ipykernel_launcher.py:1: RuntimeWarning: invalid value encountered in greater\n",
      "  \"\"\"Entry point for launching an IPython kernel.\n",
      "/home/hosborn/.local/lib/python3.5/site-packages/ipykernel_launcher.py:1: RuntimeWarning: invalid value encountered in less\n",
      "  \"\"\"Entry point for launching an IPython kernel.\n"
     ]
    }
   ],
   "source": [
    "NRINF=np.isnan(data)+(data>1)+(data<-1)"
   ]
  },
  {
   "cell_type": "code",
   "execution_count": null,
   "metadata": {},
   "outputs": [],
   "source": []
  },
  {
   "cell_type": "code",
   "execution_count": null,
   "metadata": {},
   "outputs": [],
   "source": []
  },
  {
   "cell_type": "code",
   "execution_count": null,
   "metadata": {},
   "outputs": [],
   "source": []
  },
  {
   "cell_type": "code",
   "execution_count": 58,
   "metadata": {},
   "outputs": [
    {
     "data": {
      "text/plain": [
       "3"
      ]
     },
     "execution_count": 58,
     "metadata": {},
     "output_type": "execute_result"
    }
   ],
   "source": [
    "NRINF.sum()"
   ]
  },
  {
   "cell_type": "code",
   "execution_count": 60,
   "metadata": {},
   "outputs": [],
   "source": [
    "data[NRINF]=np.nan"
   ]
  },
  {
   "cell_type": "code",
   "execution_count": 61,
   "metadata": {},
   "outputs": [
    {
     "data": {
      "text/plain": [
       "array([[ 2.35229339e-02,  1.67654012e-02],\n",
       "       [ 4.67183013e-02,  3.77330456e-02],\n",
       "       [-2.92933274e-03, -2.45240901e-01],\n",
       "       [ 4.34081903e-03,  2.17483462e-02],\n",
       "       [-1.64154196e-02,  1.11752144e-01],\n",
       "       [ 5.84770474e-03,  5.13843933e-03],\n",
       "       [-3.66822537e-03,  1.73795951e-02],\n",
       "       [ 1.67423033e-02,  1.13351592e-01],\n",
       "       [-9.85116178e-03, -1.55513273e-01],\n",
       "       [ 1.12358136e-02,  5.84541623e-02],\n",
       "       [-6.64946871e-03,  1.07553549e-01],\n",
       "       [-1.27910478e-02, -1.53749792e-01],\n",
       "       [-3.53582093e-04,  2.06036149e-02],\n",
       "       [ 3.79761178e-03,  9.35465684e-02],\n",
       "       [ 4.64764683e-02, -1.37958488e-01],\n",
       "       [ 3.32037840e-02, -6.25012432e-02],\n",
       "       [ 6.80979118e-03,  7.09349812e-02],\n",
       "       [-1.73743904e-02,  2.62315619e-02],\n",
       "       [ 1.92915395e-02, -5.03757208e-04],\n",
       "       [-1.72371127e-02,  7.15369255e-02],\n",
       "       [-1.57998824e-02, -7.13864013e-02],\n",
       "       [ 3.25580025e-02,  6.84907037e-04],\n",
       "       [ 1.61162866e-02,  8.35248186e-02],\n",
       "       [-5.97685119e-03, -7.05159253e-02],\n",
       "       [ 3.83712882e-02,  6.61713823e-02],\n",
       "       [ 6.72188068e-03,  5.08240822e-02],\n",
       "       [ 1.24897469e-02, -5.10283732e-02],\n",
       "       [ 1.76952141e-02, -8.88016250e-02],\n",
       "       [-2.71227136e-02,  7.09391809e-02],\n",
       "       [ 2.55463048e-02, -4.36076848e-02],\n",
       "       [ 1.53188922e-02,  5.70144584e-02],\n",
       "       [ 3.22818390e-02, -5.18731019e-02],\n",
       "       [ 2.18974816e-02,  1.32280726e-02],\n",
       "       [-3.60263501e-02,  8.24095738e-02],\n",
       "       [ 2.71217195e-03,  1.38835895e-01],\n",
       "       [-1.32616028e-02,  1.40510241e-02],\n",
       "       [-2.61519685e-02, -4.64062444e-02],\n",
       "       [-1.04337061e-02, -4.35914926e-02],\n",
       "       [ 2.70311974e-03, -7.64138044e-02],\n",
       "       [-1.85295144e-02, -7.03653088e-02],\n",
       "       [-9.37455537e-02,  2.03413939e-02],\n",
       "       [-1.34959240e-01,  6.75137910e-02],\n",
       "       [-2.15759956e-01, -9.12096421e-02],\n",
       "       [-2.97064531e-01,  2.59996482e-02],\n",
       "       [-4.84012823e-01, -4.37974182e-02],\n",
       "       [-5.83705933e-01,  1.72601436e-01],\n",
       "       [-6.80332147e-01,  1.12528793e-01],\n",
       "       [-8.34070097e-01, -1.20328216e-01],\n",
       "       [-9.40843715e-01,  7.32352472e-02],\n",
       "       [            nan, -2.18662039e-01],\n",
       "       [            nan,  1.74382480e-01],\n",
       "       [            nan, -8.71854331e-02],\n",
       "       [-9.20525988e-01,  9.35412567e-02],\n",
       "       [-8.08935429e-01, -4.78401567e-02],\n",
       "       [-7.12686832e-01, -1.12334266e-01],\n",
       "       [-5.79167877e-01,  1.26438628e-01],\n",
       "       [-4.83591639e-01, -3.41480084e-02],\n",
       "       [-2.92553495e-01,  8.53749464e-02],\n",
       "       [-2.03535450e-01, -7.78232430e-02],\n",
       "       [-9.16703933e-02,  5.08536363e-02],\n",
       "       [-1.71039158e-02, -7.91772056e-02],\n",
       "       [ 2.83137179e-02, -1.87034663e-02],\n",
       "       [ 4.19410848e-02, -4.81470441e-02],\n",
       "       [-1.73382494e-02, -1.25728388e-01],\n",
       "       [-5.87306342e-03, -6.54631295e-02],\n",
       "       [ 2.67227976e-02,  3.18130666e-02],\n",
       "       [-2.49525606e-02,  4.81068332e-02],\n",
       "       [ 8.27186595e-04, -8.03988700e-02],\n",
       "       [-4.73514365e-02,  1.17328907e-01],\n",
       "       [-6.54407329e-02, -9.25557531e-02],\n",
       "       [-1.27447288e-02,  3.29646847e-02],\n",
       "       [-3.56160887e-02, -1.10336076e-01],\n",
       "       [-2.84953261e-02, -2.29408759e-01],\n",
       "       [ 1.70399808e-03,  2.62962363e-02],\n",
       "       [-5.45026777e-02, -2.67002411e-02],\n",
       "       [ 6.45419890e-03, -1.39150712e-01],\n",
       "       [ 3.37738281e-03, -1.57392537e-03],\n",
       "       [-9.43174622e-03,  5.80194485e-02],\n",
       "       [-2.43427493e-02,  4.32303582e-02],\n",
       "       [-2.30372459e-02,  8.33033913e-02],\n",
       "       [-5.06052745e-03,  5.11862765e-02],\n",
       "       [-4.61368874e-03,  8.50147404e-02],\n",
       "       [-3.22297020e-02, -3.42173473e-02],\n",
       "       [ 5.39668314e-02, -3.65989777e-02],\n",
       "       [-2.13427453e-02, -1.53319538e-01],\n",
       "       [ 1.23851853e-02,  1.07894186e-03],\n",
       "       [-2.58012039e-02, -6.22054232e-02],\n",
       "       [-1.46687921e-02,  1.20577077e-01],\n",
       "       [ 2.69856286e-02, -9.30726177e-02],\n",
       "       [ 2.95282672e-03, -2.39614732e-03],\n",
       "       [-1.41145410e-02, -1.51264774e-01],\n",
       "       [ 1.50867487e-03, -4.14536104e-03],\n",
       "       [ 5.40711362e-02,  4.86944023e-02],\n",
       "       [ 2.75788015e-02, -7.58808174e-02],\n",
       "       [ 5.05114834e-05, -7.33264943e-03],\n",
       "       [-4.68238975e-02,  1.38444124e-02],\n",
       "       [-3.64437662e-02, -9.10174274e-03],\n",
       "       [ 5.69709096e-02, -8.43530180e-02],\n",
       "       [-7.75778229e-03,  2.42863322e-03],\n",
       "       [ 1.15310113e-02,  7.51985497e-02],\n",
       "       [-3.16889760e-02,  3.62585399e-02]])"
      ]
     },
     "execution_count": 61,
     "metadata": {},
     "output_type": "execute_result"
    }
   ],
   "source": [
    "data"
   ]
  },
  {
   "cell_type": "code",
   "execution_count": null,
   "metadata": {},
   "outputs": [],
   "source": []
  },
  {
   "cell_type": "code",
   "execution_count": null,
   "metadata": {},
   "outputs": [],
   "source": []
  },
  {
   "cell_type": "code",
   "execution_count": 51,
   "metadata": {},
   "outputs": [],
   "source": [
    "data[(data>1e3)+(data<-1e3)]=np.nan"
   ]
  },
  {
   "cell_type": "code",
   "execution_count": 52,
   "metadata": {},
   "outputs": [
    {
     "data": {
      "text/plain": [
       "array([[ 2.35229339e-02,  1.67654012e-02],\n",
       "       [ 4.67183013e-02,  3.77330456e-02],\n",
       "       [-2.92933274e-03, -2.45240901e-01],\n",
       "       [ 4.34081903e-03,  2.17483462e-02],\n",
       "       [-1.64154196e-02,  1.11752144e-01],\n",
       "       [ 5.84770474e-03,  5.13843933e-03],\n",
       "       [-3.66822537e-03,  1.73795951e-02],\n",
       "       [ 1.67423033e-02,  1.13351592e-01],\n",
       "       [-9.85116178e-03, -1.55513273e-01],\n",
       "       [ 1.12358136e-02,  5.84541623e-02],\n",
       "       [-6.64946871e-03,  1.07553549e-01],\n",
       "       [-1.27910478e-02, -1.53749792e-01],\n",
       "       [-3.53582093e-04,  2.06036149e-02],\n",
       "       [ 3.79761178e-03,  9.35465684e-02],\n",
       "       [ 4.64764683e-02, -1.37958488e-01],\n",
       "       [ 3.32037840e-02, -6.25012432e-02],\n",
       "       [ 6.80979118e-03,  7.09349812e-02],\n",
       "       [-1.73743904e-02,  2.62315619e-02],\n",
       "       [ 1.92915395e-02, -5.03757208e-04],\n",
       "       [-1.72371127e-02,  7.15369255e-02],\n",
       "       [-1.57998824e-02, -7.13864013e-02],\n",
       "       [ 3.25580025e-02,  6.84907037e-04],\n",
       "       [ 1.61162866e-02,  8.35248186e-02],\n",
       "       [-5.97685119e-03, -7.05159253e-02],\n",
       "       [ 3.83712882e-02,  6.61713823e-02],\n",
       "       [ 6.72188068e-03,  5.08240822e-02],\n",
       "       [ 1.24897469e-02, -5.10283732e-02],\n",
       "       [ 1.76952141e-02, -8.88016250e-02],\n",
       "       [-2.71227136e-02,  7.09391809e-02],\n",
       "       [ 2.55463048e-02, -4.36076848e-02],\n",
       "       [ 1.53188922e-02,  5.70144584e-02],\n",
       "       [ 3.22818390e-02, -5.18731019e-02],\n",
       "       [ 2.18974816e-02,  1.32280726e-02],\n",
       "       [-3.60263501e-02,  8.24095738e-02],\n",
       "       [ 2.71217195e-03,  1.38835895e-01],\n",
       "       [-1.32616028e-02,  1.40510241e-02],\n",
       "       [-2.61519685e-02, -4.64062444e-02],\n",
       "       [-1.04337061e-02, -4.35914926e-02],\n",
       "       [ 2.70311974e-03, -7.64138044e-02],\n",
       "       [-1.85295144e-02, -7.03653088e-02],\n",
       "       [-9.37455537e-02,  2.03413939e-02],\n",
       "       [-1.34959240e-01,  6.75137910e-02],\n",
       "       [-2.15759956e-01, -9.12096421e-02],\n",
       "       [-2.97064531e-01,  2.59996482e-02],\n",
       "       [-4.84012823e-01, -4.37974182e-02],\n",
       "       [-5.83705933e-01,  1.72601436e-01],\n",
       "       [-6.80332147e-01,  1.12528793e-01],\n",
       "       [-8.34070097e-01, -1.20328216e-01],\n",
       "       [-9.40843715e-01,  7.32352472e-02],\n",
       "       [-1.02081890e+00, -2.18662039e-01],\n",
       "       [-1.04241269e+00,  1.74382480e-01],\n",
       "       [-1.01659829e+00, -8.71854331e-02],\n",
       "       [-9.20525988e-01,  9.35412567e-02],\n",
       "       [-8.08935429e-01, -4.78401567e-02],\n",
       "       [-7.12686832e-01, -1.12334266e-01],\n",
       "       [-5.79167877e-01,  1.26438628e-01],\n",
       "       [-4.83591639e-01, -3.41480084e-02],\n",
       "       [-2.92553495e-01,  8.53749464e-02],\n",
       "       [-2.03535450e-01, -7.78232430e-02],\n",
       "       [-9.16703933e-02,  5.08536363e-02],\n",
       "       [-1.71039158e-02, -7.91772056e-02],\n",
       "       [ 2.83137179e-02, -1.87034663e-02],\n",
       "       [ 4.19410848e-02, -4.81470441e-02],\n",
       "       [-1.73382494e-02, -1.25728388e-01],\n",
       "       [-5.87306342e-03, -6.54631295e-02],\n",
       "       [ 2.67227976e-02,  3.18130666e-02],\n",
       "       [-2.49525606e-02,  4.81068332e-02],\n",
       "       [ 8.27186595e-04, -8.03988700e-02],\n",
       "       [-4.73514365e-02,  1.17328907e-01],\n",
       "       [-6.54407329e-02, -9.25557531e-02],\n",
       "       [-1.27447288e-02,  3.29646847e-02],\n",
       "       [-3.56160887e-02, -1.10336076e-01],\n",
       "       [-2.84953261e-02, -2.29408759e-01],\n",
       "       [ 1.70399808e-03,  2.62962363e-02],\n",
       "       [-5.45026777e-02, -2.67002411e-02],\n",
       "       [ 6.45419890e-03, -1.39150712e-01],\n",
       "       [ 3.37738281e-03, -1.57392537e-03],\n",
       "       [-9.43174622e-03,  5.80194485e-02],\n",
       "       [-2.43427493e-02,  4.32303582e-02],\n",
       "       [-2.30372459e-02,  8.33033913e-02],\n",
       "       [-5.06052745e-03,  5.11862765e-02],\n",
       "       [-4.61368874e-03,  8.50147404e-02],\n",
       "       [-3.22297020e-02, -3.42173473e-02],\n",
       "       [ 5.39668314e-02, -3.65989777e-02],\n",
       "       [-2.13427453e-02, -1.53319538e-01],\n",
       "       [ 1.23851853e-02,  1.07894186e-03],\n",
       "       [-2.58012039e-02, -6.22054232e-02],\n",
       "       [-1.46687921e-02,  1.20577077e-01],\n",
       "       [ 2.69856286e-02, -9.30726177e-02],\n",
       "       [ 2.95282672e-03, -2.39614732e-03],\n",
       "       [-1.41145410e-02, -1.51264774e-01],\n",
       "       [ 1.50867487e-03, -4.14536104e-03],\n",
       "       [ 5.40711362e-02,  4.86944023e-02],\n",
       "       [ 2.75788015e-02, -7.58808174e-02],\n",
       "       [ 5.05114834e-05, -7.33264943e-03],\n",
       "       [-4.68238975e-02,  1.38444124e-02],\n",
       "       [-3.64437662e-02, -9.10174274e-03],\n",
       "       [ 5.69709096e-02, -8.43530180e-02],\n",
       "       [-7.75778229e-03,  2.42863322e-03],\n",
       "       [ 1.15310113e-02,  7.51985497e-02],\n",
       "       [-3.16889760e-02,  3.62585399e-02]])"
      ]
     },
     "execution_count": 52,
     "metadata": {},
     "output_type": "execute_result"
    }
   ],
   "source": [
    "data"
   ]
  },
  {
   "cell_type": "code",
   "execution_count": null,
   "metadata": {},
   "outputs": [],
   "source": []
  },
  {
   "cell_type": "code",
   "execution_count": 9,
   "metadata": {},
   "outputs": [],
   "source": [
    "collist=['TPERIOD','TDUR','DRRATIO','NTRANS','TSNR','TDEPTH','INDUR',\n",
    "         'SESMES_LOG_RATIO','PRAD_LOG_RATIO','TDUR_LOG_RATIO','RADRATIO','IMPACT',\n",
    "         'TESSMAG','RADIUS','PMTOTAL','LOGG','MH','TEFF']\n"
   ]
  },
  {
   "cell_type": "code",
   "execution_count": 10,
   "metadata": {},
   "outputs": [],
   "source": [
    "import os\n",
    "import pickle\n",
    "import numpy as np\n",
    "import glob\n",
    "\n",
    "infos=glob.glob('/home/hosborn/TESS/processed_dv_101_centfixed2/test/*info.npy')\n",
    "for file in infos:\n",
    "    info=np.load(file,encoding='latin1')\n",
    "    fall=file.replace('processed_dv_101_centfixed2','processed_dvpdc_both').replace('_info.npy','_view_info.pickle')\n",
    "    if os.path.exists(fall):\n",
    "        info2=pickle.load(open(fall,'rb'),encoding='latin1')\n",
    "    elif os.path.exists(fall.replace('test','all')):\n",
    "        info2=pickle.load(open(fall.replace('test','all'),'rb'),encoding='latin1')\n",
    "    elif os.path.exists(fall.replace('test','nans')):\n",
    "        info2=pickle.load(open(fall.replace('test','nans'),'rb'),encoding='latin1')\n",
    "    else:\n",
    "        print(\"NO PICKLES FOR YOU - \",fall)\n",
    "        info2=None\n",
    "    if info2 is not None:\n",
    "        if info[6]!=info2['tce_label']:\n",
    "            print(\"LABEL CLASH - \",info[6],info2['tce_label'])\n",
    "        newinfo=np.hstack((info,np.array([info2[col+'_W'] for col in collist])))\n",
    "        np.save(file.replace('.npy','2.npy'),newinfo)"
   ]
  },
  {
   "cell_type": "code",
   "execution_count": null,
   "metadata": {},
   "outputs": [],
   "source": [
    "import os\n",
    "import pickle\n",
    "import numpy as np\n",
    "import glob\n",
    "\n",
    "infos=glob.glob('/home/hosborn/TESS/processed_dv_101_centfixed2/test/*info.npy')\n",
    "for file in infos:\n",
    "    info=np.load(file,encoding='latin1')\n",
    "    fall=file.replace('processed_dv_101_centfixed2','processed_dvpdc_both').replace('_info.npy','_view_info.pickle')\n",
    "    if os.path.exists(fall):\n",
    "        info2=pickle.load(open(fall,'rb'),encoding='latin1')\n",
    "    elif os.path.exists(fall.replace('test','all')):\n",
    "        info2=pickle.load(open(fall.replace('test','all'),'rb'),encoding='latin1')\n",
    "    elif os.path.exists(fall.replace('test','nans')):\n",
    "        info2=pickle.load(open(fall.replace('test','nans'),'rb'),encoding='latin1')\n",
    "    else:\n",
    "        print(\"NO PICKLES FOR YOU - \",fall)\n",
    "        info2=None\n",
    "    if info2 is not None:\n",
    "        if info[6]!=info2['tce_label']:\n",
    "            print(\"LABEL CLASH - \",info[6],info2['tce_label'])\n",
    "        newinfo=np.hstack((info,np.array([info2[col+'_W'] for col in collist])))\n",
    "        np.save(file.replace('.npy','2.npy'),newinfo)"
   ]
  },
  {
   "cell_type": "code",
   "execution_count": 7,
   "metadata": {},
   "outputs": [
    {
     "data": {
      "text/plain": [
       "False"
      ]
     },
     "execution_count": 7,
     "metadata": {},
     "output_type": "execute_result"
    }
   ],
   "source": [
    "os.path.exists('/home/hosborn/TESS/processed_dvpdc_both/test/000010803257_00_04_view_info.pickle')"
   ]
  },
  {
   "cell_type": "code",
   "execution_count": 11,
   "metadata": {},
   "outputs": [
    {
     "data": {
      "text/plain": [
       "2358"
      ]
     },
     "execution_count": 11,
     "metadata": {},
     "output_type": "execute_result"
    }
   ],
   "source": [
    "len(glob.glob('/home/hosborn/TESS/processed_dv_101_centfixed2/test/*info2.npy'))"
   ]
  },
  {
   "cell_type": "code",
   "execution_count": 12,
   "metadata": {},
   "outputs": [
    {
     "data": {
      "text/plain": [
       "2358"
      ]
     },
     "execution_count": 12,
     "metadata": {},
     "output_type": "execute_result"
    }
   ],
   "source": [
    "len(glob.glob('/home/hosborn/TESS/processed_dv_101_centfixed2/test/*info.npy'))"
   ]
  },
  {
   "cell_type": "code",
   "execution_count": 5,
   "metadata": {},
   "outputs": [
    {
     "data": {
      "text/plain": [
       "array(['log10Metallicity', 'log10SurfaceGravity', 'effectiveTemp',\n",
       "       'allTransitsFit_starRadiusSolarRadii',\n",
       "       'allTransitsFit_starDensitySolarDensity', 'decDegrees'],\n",
       "      dtype='<U38')"
      ]
     },
     "execution_count": 5,
     "metadata": {},
     "output_type": "execute_result"
    }
   ],
   "source": [
    "colstring='kepid,tce_period,tce_time0bk,tce_duration,tce_depth,tce_plnt_num,tce_label,log10Metallicity,log10SurfaceGravity,effectiveTemp,allTransitsFit_starRadiusSolarRadii,allTransitsFit_starDensitySolarDensity,decDegrees,raDegrees,pmRa,pmDec,tessMag,det_MES,exp_MES,sector,label_complex,old_tce_label'\n",
    "#\"OLD\":\n",
    "label=6\n",
    "np.array(colstring.split(','))[7:13]\n"
   ]
  },
  {
   "cell_type": "code",
   "execution_count": null,
   "metadata": {},
   "outputs": [],
   "source": []
  },
  {
   "cell_type": "code",
   "execution_count": 4,
   "metadata": {},
   "outputs": [
    {
     "data": {
      "text/plain": [
       "array([10803257, 0.6240309, 1396.2104166666604, 1.9420274045735253,\n",
       "       18925.71538601691, 0, 'BEB', 0.3, 4.58, 5486.0, 0.970712, 1.03597,\n",
       "       -7.2447089999999985, 20.29599, 140.595, 69.328, 10.359000000000002,\n",
       "       132.1849, nan, 'sector-4', 'BEB', 'BEB'], dtype=object)"
      ]
     },
     "execution_count": 4,
     "metadata": {},
     "output_type": "execute_result"
    }
   ],
   "source": [
    "np.load(glob.glob('/home/hosborn/TESS/processed_dv_101_centfixed2/test/*info.npy')[0],encoding='latin1')"
   ]
  },
  {
   "cell_type": "code",
   "execution_count": 12,
   "metadata": {},
   "outputs": [
    {
     "data": {
      "text/plain": [
       "array([nan, 4.33392, 5448.0, 1.09989, 0.714733, -69.314913], dtype=object)"
      ]
     },
     "execution_count": 12,
     "metadata": {},
     "output_type": "execute_result"
    }
   ],
   "source": [
    "info2=np.load(glob.glob('/home/hosborn/TESS/Processed_RealDat_2/*info.npy')[0],encoding='latin1')\n",
    "newixs=np.array([16, 24, 17, 30, 31, 21])\n",
    "info2[newixs]"
   ]
  },
  {
   "cell_type": "code",
   "execution_count": null,
   "metadata": {},
   "outputs": [],
   "source": []
  },
  {
   "cell_type": "code",
   "execution_count": null,
   "metadata": {},
   "outputs": [],
   "source": []
  },
  {
   "cell_type": "code",
   "execution_count": null,
   "metadata": {},
   "outputs": [],
   "source": []
  },
  {
   "cell_type": "code",
   "execution_count": 9,
   "metadata": {},
   "outputs": [],
   "source": [
    "newinfo=[u'MAXMES', u'MAXSES', u'TDEPTH', u'TDUR', u'TEPOCH', u'TPERIOD', u'TSNR', u'n_det', u'rmsCdpp', u'sector', u'sectors', u'is_toi', u'toi',\n",
    "         u'toi_disp', u'TID', u'ID', u'MH', u'Teff', u'Tmag', u'contratio', u'd',\n",
    "         u'dec', u'gallat', u'gallong', u'logg', u'mass', u'objType', u'pmDEC',\n",
    "         u'pmRA', u'ra', u'rad', u'rho']\n"
   ]
  },
  {
   "cell_type": "code",
   "execution_count": 10,
   "metadata": {},
   "outputs": [
    {
     "data": {
      "text/plain": [
       "array([16, 24, 17, 30, 31, 21])"
      ]
     },
     "execution_count": 10,
     "metadata": {},
     "output_type": "execute_result"
    }
   ],
   "source": [
    "newixs=np.array([newinfo.index(c) for c in ['MH','logg','Teff','rad','rho','dec']])"
   ]
  },
  {
   "cell_type": "code",
   "execution_count": null,
   "metadata": {},
   "outputs": [],
   "source": []
  },
  {
   "cell_type": "code",
   "execution_count": null,
   "metadata": {},
   "outputs": [],
   "source": []
  }
 ],
 "metadata": {
  "kernelspec": {
   "display_name": "Python 3",
   "language": "python",
   "name": "python3"
  },
  "language_info": {
   "codemirror_mode": {
    "name": "ipython",
    "version": 3
   },
   "file_extension": ".py",
   "mimetype": "text/x-python",
   "name": "python",
   "nbconvert_exporter": "python",
   "pygments_lexer": "ipython3",
   "version": "3.5.2"
  }
 },
 "nbformat": 4,
 "nbformat_minor": 2
}
